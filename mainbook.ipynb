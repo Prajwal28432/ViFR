# clone repository
!git clone https://github.com/Prajwal28432/ViFR

# install dependencies
!pip install tensorboardX av torchgeometry flask flask-ngrok iglovikov_helper_functions cloths_segmentation albumentations
!pip install scipy==1.8.0

%cd ViFR
# install detectron2
!python -m pip install 'git+https://github.com/facebookresearch/detectron2.git'




!pip install --upgrade --no-cache-dir gdown

%cd HR-VITON-main
!gdown https://drive.google.com/u/0/uc?id=1BkSA8UJo-6eOkKcXTFOHK80Esc4vBmVC&export=download
!gdown https://drive.google.com/u/0/uc?id=1XJTCdRBOPVgVTmqzhVGFAgMm2NLkw5uQ&export=download
%cd ../

%cd Graphonomy-master
!gdown https://drive.google.com/u/0/uc?id=1eUe18HoH05p0yFUd_sN6GXdTj82aW0m9&export=download
%cd ../


!pip install pyngrok==4.1.1
!ngrok authtoken 2Pm1XBCyLR3E8Xqo5YCvuEDJKSj_59WdJpXiE6MHnekx3VYgV



from flask import Flask, render_template, request, redirect, url_for
from flask_ngrok import run_with_ngrok
from werkzeug.utils import secure_filename
from PIL import Image

import os

app = Flask(__name__)
run_with_ngrok(app)

data_list = []

@app.route('/', methods=['GET', 'POST'])
def main():
    return render_template('main.html')
 
@app.route('/fileUpload', methods = ['GET', 'POST'])
def file_upload():
    if request.method == 'POST':
        f = request.files['file']
        f_src = 'static/origin_web.jpg'
        
        f.save(f_src)
        return render_template('fileUpload.html')

@app.route('/fileUpload_cloth', methods = ['GET', 'POST'])
def fileUpload_cloth():
    if request.method == 'POST':
        f = request.files['file']
        f_src = 'static/cloth_web.jpg'
        
        f.save(f_src)
        return render_template('fileUpload_cloth.html')
 
@app.route('/view', methods = ['GET', 'POST'])
def view():
    print("inference start")
    
    terminnal_command ="python main.py"
    os.system(terminnal_command)
    
    print("inference end")
    return render_template('view.html', data_list=data_list)  
 
if __name__ == '__main__':
    app.run()



app.run()
